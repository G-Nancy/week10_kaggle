{
 "cells": [
  {
   "cell_type": "code",
   "execution_count": 1,
   "metadata": {},
   "outputs": [],
   "source": [
    "import pickle, pandas as pd\n"
   ]
  },
  {
   "cell_type": "code",
   "execution_count": 2,
   "metadata": {},
   "outputs": [
    {
     "data": {
      "text/html": [
       "<div>\n",
       "<style scoped>\n",
       "    .dataframe tbody tr th:only-of-type {\n",
       "        vertical-align: middle;\n",
       "    }\n",
       "\n",
       "    .dataframe tbody tr th {\n",
       "        vertical-align: top;\n",
       "    }\n",
       "\n",
       "    .dataframe thead th {\n",
       "        text-align: right;\n",
       "    }\n",
       "</style>\n",
       "<table border=\"1\" class=\"dataframe\">\n",
       "  <thead>\n",
       "    <tr style=\"text-align: right;\">\n",
       "      <th></th>\n",
       "      <th>store_ID</th>\n",
       "      <th>day_of_week</th>\n",
       "      <th>date</th>\n",
       "      <th>nb_customers_on_day</th>\n",
       "      <th>open</th>\n",
       "      <th>promotion</th>\n",
       "      <th>state_holiday</th>\n",
       "      <th>school_holiday</th>\n",
       "      <th>index1</th>\n",
       "    </tr>\n",
       "    <tr>\n",
       "      <th>index</th>\n",
       "      <th></th>\n",
       "      <th></th>\n",
       "      <th></th>\n",
       "      <th></th>\n",
       "      <th></th>\n",
       "      <th></th>\n",
       "      <th></th>\n",
       "      <th></th>\n",
       "      <th></th>\n",
       "    </tr>\n",
       "  </thead>\n",
       "  <tbody>\n",
       "    <tr>\n",
       "      <th>635498</th>\n",
       "      <td>682</td>\n",
       "      <td>7</td>\n",
       "      <td>25/05/2014</td>\n",
       "      <td>1304</td>\n",
       "      <td>1</td>\n",
       "      <td>0</td>\n",
       "      <td>0</td>\n",
       "      <td>0</td>\n",
       "      <td>635498</td>\n",
       "    </tr>\n",
       "  </tbody>\n",
       "</table>\n",
       "</div>"
      ],
      "text/plain": [
       "        store_ID  day_of_week        date  nb_customers_on_day  open  \\\n",
       "index                                                                  \n",
       "635498       682            7  25/05/2014                 1304     1   \n",
       "\n",
       "        promotion state_holiday  school_holiday  index1  \n",
       "index                                                    \n",
       "635498          0             0               0  635498  "
      ]
     },
     "execution_count": 2,
     "metadata": {},
     "output_type": "execute_result"
    }
   ],
   "source": [
    "data = pd.read_csv(\"validation_for students.csv\", index_col='index')\n",
    "data.index.min()\n",
    "data['index1'] = data.index\n",
    "data.sample()"
   ]
  },
  {
   "cell_type": "markdown",
   "metadata": {},
   "source": [
    "# Feature Enginnering"
   ]
  },
  {
   "cell_type": "code",
   "execution_count": 3,
   "metadata": {},
   "outputs": [
    {
     "name": "stderr",
     "output_type": "stream",
     "text": [
      "/var/folders/lw/14dpn8b91z99svtdtfqnx09800tlp4/T/ipykernel_46238/3125527608.py:3: UserWarning: Parsing dates in %d/%m/%Y format when dayfirst=False (the default) was specified. Pass `dayfirst=True` or specify a format to silence this warning.\n",
      "  df['month'] = pd.to_datetime(df['date']).dt.month\n"
     ]
    },
    {
     "data": {
      "text/html": [
       "<div>\n",
       "<style scoped>\n",
       "    .dataframe tbody tr th:only-of-type {\n",
       "        vertical-align: middle;\n",
       "    }\n",
       "\n",
       "    .dataframe tbody tr th {\n",
       "        vertical-align: top;\n",
       "    }\n",
       "\n",
       "    .dataframe thead th {\n",
       "        text-align: right;\n",
       "    }\n",
       "</style>\n",
       "<table border=\"1\" class=\"dataframe\">\n",
       "  <thead>\n",
       "    <tr style=\"text-align: right;\">\n",
       "      <th></th>\n",
       "      <th>day_of_week</th>\n",
       "      <th>promotion</th>\n",
       "      <th>state_holiday</th>\n",
       "      <th>cust_bin</th>\n",
       "      <th>month</th>\n",
       "      <th>store_bin</th>\n",
       "      <th>index1</th>\n",
       "    </tr>\n",
       "  </thead>\n",
       "  <tbody>\n",
       "    <tr>\n",
       "      <th>39107</th>\n",
       "      <td>6</td>\n",
       "      <td>0</td>\n",
       "      <td>0</td>\n",
       "      <td>3</td>\n",
       "      <td>0</td>\n",
       "      <td>4</td>\n",
       "      <td>246183</td>\n",
       "    </tr>\n",
       "    <tr>\n",
       "      <th>550</th>\n",
       "      <td>5</td>\n",
       "      <td>1</td>\n",
       "      <td>0</td>\n",
       "      <td>3</td>\n",
       "      <td>5</td>\n",
       "      <td>5</td>\n",
       "      <td>42681</td>\n",
       "    </tr>\n",
       "    <tr>\n",
       "      <th>34010</th>\n",
       "      <td>3</td>\n",
       "      <td>1</td>\n",
       "      <td>0</td>\n",
       "      <td>3</td>\n",
       "      <td>10</td>\n",
       "      <td>5</td>\n",
       "      <td>83753</td>\n",
       "    </tr>\n",
       "    <tr>\n",
       "      <th>9928</th>\n",
       "      <td>3</td>\n",
       "      <td>1</td>\n",
       "      <td>0</td>\n",
       "      <td>2</td>\n",
       "      <td>5</td>\n",
       "      <td>3</td>\n",
       "      <td>356100</td>\n",
       "    </tr>\n",
       "    <tr>\n",
       "      <th>57543</th>\n",
       "      <td>3</td>\n",
       "      <td>0</td>\n",
       "      <td>0</td>\n",
       "      <td>2</td>\n",
       "      <td>9</td>\n",
       "      <td>4</td>\n",
       "      <td>175668</td>\n",
       "    </tr>\n",
       "  </tbody>\n",
       "</table>\n",
       "</div>"
      ],
      "text/plain": [
       "       day_of_week  promotion state_holiday cust_bin month store_bin  index1\n",
       "39107            6          0             0        3     0         4  246183\n",
       "550              5          1             0        3     5         5   42681\n",
       "34010            3          1             0        3    10         5   83753\n",
       "9928             3          1             0        2     5         3  356100\n",
       "57543            3          0             0        2     9         4  175668"
      ]
     },
     "execution_count": 3,
     "metadata": {},
     "output_type": "execute_result"
    }
   ],
   "source": [
    "df = data[(data['open']!=0)]\n",
    "df = df[(df['nb_customers_on_day']!=0)]\n",
    "df['month'] = pd.to_datetime(df['date']).dt.month\n",
    "\n",
    "df['state_holiday'] = df['state_holiday'].replace({'a':1, 'b':1, 'c':1})\n",
    "# df['year'] = pd.to_datetime(df['date']).dt.year\n",
    "# cust_bin = [0,500, 1000, 1500, 2000, 2500, 3000, 3500, 4000, 4500, 5000, 5500, 6000]\n",
    "cust_bin =  [0, 196, 392, 588, 784, 980, 1176, 1372, 1568, 1764, 1960, 2156, 2352, 2548, 2744, 2940, 3136, 3332, 3528, 3724, 3920, 4116, 4312, 4508, 4704, 4900, 5096, 5292, 5488, 5684, 5800] #[0, 189, 378, 567, 756, 945, 1134, 1323, 1512, 1701, 1890, 2079, 2268, 2457, 2646, 2835, 3024, 3213, 3402, 3591, 3780, 3969, 4158, 4347, 4536, 4725, 4914, 5103, 5292, 5481, 5670]\n",
    "cust_label = [0,1,2,3,4,5,6,7,8,9,10,11, 12, 13, 14, 15, 16, 17, 18, 19, 20, 21, 22, 23, 24,25,26,27,28,29]\n",
    "df['cust_bin'] = pd.cut(df['nb_customers_on_day'], bins=cust_bin, labels=cust_label)\n",
    "\n",
    "store_summary = df.groupby('store_ID')[['nb_customers_on_day']].mean().reset_index()\n",
    "# print(store_summary.sample(5))\n",
    "store_label = [0,1,2,3,4,5,6,7,8,9,10,11, 12, 13, 14, 15, 16, 17, 18, 19, 20, 21, 22, 23, 24,25,26,27,28,29]\n",
    "store_bins=  [0, 125, 250, 375, 500, 625, 750, 875, 1000, 1125, 1250, 1375, 1500, 1625, 1750, 1875, 2000, 2125, 2250, 2375, 2500, 2625, 2750, 2875, 3000, 3125, 3250, 3375, 3500, 3625, 3800] #[0, 120, 240, 360, 480, 600, 720, 840, 960, 1080, 1200, 1320, 1440, 1560, 1680, 1800, 1920, 2040, 2160, 2280, 2400, 2520, 2640, 2760, 2880, 3000, 3120, 3240, 3360, 3480, 3600]\n",
    "store_summary.columns = ['store_ID', 'avg_cust'] \n",
    "store_summary['store_bin'] = pd.cut(store_summary['avg_cust'], bins=store_bins, labels=store_label)\n",
    "\n",
    "df_merge = pd.merge(df, store_summary, on= 'store_ID', how='left')\n",
    "df_merge = df_merge.drop(columns=['date','open','nb_customers_on_day', 'store_ID','avg_cust','school_holiday'])\n",
    "\n",
    "df_merge['month'] = df_merge['month'].astype('category')\n",
    "df_merge['cust_bin'] = df_merge['cust_bin'].astype('category')\n",
    "df_merge['store_bin'] = df_merge['store_bin'].astype('category')\n",
    "df_merge['store_bin'] = df_merge['store_bin'].cat.codes\n",
    "df_merge['cust_bin'] = df_merge['cust_bin'].cat.codes\n",
    "df_merge['month'] = df_merge['month'].cat.codes\n",
    "df_merge['store_bin'] = df_merge['store_bin'].astype('category')\n",
    "df_merge['cust_bin'] = df_merge['cust_bin'].astype('category')\n",
    "df_merge['month'] = df_merge['month'].astype('category')\n",
    "df_merge = df_merge[['day_of_week', 'promotion', 'state_holiday', 'cust_bin', 'month','store_bin','index1']]\n",
    "\n",
    "df_merge.sample(5)  #640840"
   ]
  },
  {
   "cell_type": "markdown",
   "metadata": {},
   "source": [
    "## Load model"
   ]
  },
  {
   "cell_type": "code",
   "execution_count": 4,
   "metadata": {},
   "outputs": [],
   "source": [
    "model = pickle.load(open('deepseek_1.pkl','rb'))"
   ]
  },
  {
   "cell_type": "code",
   "execution_count": 5,
   "metadata": {},
   "outputs": [
    {
     "data": {
      "text/plain": [
       "array([6671.49655608, 6101.33139842, 6671.49655608, ..., 5771.03458523,\n",
       "       7118.42456496, 8017.33309261])"
      ]
     },
     "execution_count": 5,
     "metadata": {},
     "output_type": "execute_result"
    }
   ],
   "source": [
    "y_pred = model.predict(df_merge.drop(columns='index1'))\n",
    "y_pred"
   ]
  },
  {
   "cell_type": "code",
   "execution_count": 6,
   "metadata": {},
   "outputs": [
    {
     "data": {
      "text/html": [
       "<div>\n",
       "<style scoped>\n",
       "    .dataframe tbody tr th:only-of-type {\n",
       "        vertical-align: middle;\n",
       "    }\n",
       "\n",
       "    .dataframe tbody tr th {\n",
       "        vertical-align: top;\n",
       "    }\n",
       "\n",
       "    .dataframe thead th {\n",
       "        text-align: right;\n",
       "    }\n",
       "</style>\n",
       "<table border=\"1\" class=\"dataframe\">\n",
       "  <thead>\n",
       "    <tr style=\"text-align: right;\">\n",
       "      <th></th>\n",
       "      <th>day_of_week</th>\n",
       "      <th>promotion</th>\n",
       "      <th>state_holiday</th>\n",
       "      <th>cust_bin</th>\n",
       "      <th>month</th>\n",
       "      <th>store_bin</th>\n",
       "      <th>index1</th>\n",
       "      <th>sales</th>\n",
       "    </tr>\n",
       "  </thead>\n",
       "  <tbody>\n",
       "    <tr>\n",
       "      <th>57213</th>\n",
       "      <td>2</td>\n",
       "      <td>0</td>\n",
       "      <td>0</td>\n",
       "      <td>5</td>\n",
       "      <td>3</td>\n",
       "      <td>9</td>\n",
       "      <td>515978</td>\n",
       "      <td>7469.111640</td>\n",
       "    </tr>\n",
       "    <tr>\n",
       "      <th>12189</th>\n",
       "      <td>3</td>\n",
       "      <td>0</td>\n",
       "      <td>0</td>\n",
       "      <td>2</td>\n",
       "      <td>1</td>\n",
       "      <td>4</td>\n",
       "      <td>552407</td>\n",
       "      <td>4497.959228</td>\n",
       "    </tr>\n",
       "    <tr>\n",
       "      <th>58186</th>\n",
       "      <td>5</td>\n",
       "      <td>0</td>\n",
       "      <td>0</td>\n",
       "      <td>3</td>\n",
       "      <td>2</td>\n",
       "      <td>6</td>\n",
       "      <td>476119</td>\n",
       "      <td>6163.464111</td>\n",
       "    </tr>\n",
       "    <tr>\n",
       "      <th>31648</th>\n",
       "      <td>3</td>\n",
       "      <td>1</td>\n",
       "      <td>0</td>\n",
       "      <td>2</td>\n",
       "      <td>7</td>\n",
       "      <td>3</td>\n",
       "      <td>133437</td>\n",
       "      <td>5142.691646</td>\n",
       "    </tr>\n",
       "    <tr>\n",
       "      <th>30593</th>\n",
       "      <td>2</td>\n",
       "      <td>1</td>\n",
       "      <td>0</td>\n",
       "      <td>8</td>\n",
       "      <td>10</td>\n",
       "      <td>9</td>\n",
       "      <td>56447</td>\n",
       "      <td>14106.636575</td>\n",
       "    </tr>\n",
       "  </tbody>\n",
       "</table>\n",
       "</div>"
      ],
      "text/plain": [
       "       day_of_week  promotion state_holiday cust_bin month store_bin  index1  \\\n",
       "57213            2          0             0        5     3         9  515978   \n",
       "12189            3          0             0        2     1         4  552407   \n",
       "58186            5          0             0        3     2         6  476119   \n",
       "31648            3          1             0        2     7         3  133437   \n",
       "30593            2          1             0        8    10         9   56447   \n",
       "\n",
       "              sales  \n",
       "57213   7469.111640  \n",
       "12189   4497.959228  \n",
       "58186   6163.464111  \n",
       "31648   5142.691646  \n",
       "30593  14106.636575  "
      ]
     },
     "execution_count": 6,
     "metadata": {},
     "output_type": "execute_result"
    }
   ],
   "source": [
    "df_merge['sales']=y_pred\n",
    "df_merge.sample(5)\n",
    "\n"
   ]
  },
  {
   "cell_type": "code",
   "execution_count": 7,
   "metadata": {},
   "outputs": [],
   "source": [
    "val_data = df_merge.drop(columns = ['day_of_week', 'promotion', 'state_holiday', 'cust_bin', 'month','store_bin'])\n",
    "\n",
    "\n",
    "final_val = pd.merge(data, val_data, on='index1', how='left')\n",
    "final_val.loc[((final_val['sales'].isna()) | (final_val['open']==0) | (df['nb_customers_on_day']==0)),'sales'] = 0\n",
    "\n",
    "final_val = final_val.drop(columns = ['store_ID', 'day_of_week', 'date', 'nb_customers_on_day', 'open','promotion', 'state_holiday', 'school_holiday'])\n",
    "final_val.to_csv('validation_data_deepkseek.csv')"
   ]
  }
 ],
 "metadata": {
  "kernelspec": {
   "display_name": "3.9.2",
   "language": "python",
   "name": "python3"
  },
  "language_info": {
   "codemirror_mode": {
    "name": "ipython",
    "version": 3
   },
   "file_extension": ".py",
   "mimetype": "text/x-python",
   "name": "python",
   "nbconvert_exporter": "python",
   "pygments_lexer": "ipython3",
   "version": "3.9.2"
  }
 },
 "nbformat": 4,
 "nbformat_minor": 2
}
